{
 "cells": [
  {
   "cell_type": "markdown",
   "metadata": {},
   "source": [
    "# PySimpleGUI Calculator "
   ]
  },
  {
   "cell_type": "markdown",
   "metadata": {},
   "source": [
    "# By Apisit Khomcharoen 6001012630187"
   ]
  },
  {
   "cell_type": "markdown",
   "metadata": {},
   "source": [
    "# Blog Me --->  https://apisit13411.blogspot.com/"
   ]
  },
  {
   "cell_type": "markdown",
   "metadata": {},
   "source": [
    "# Ref --->   https://pysimplegui.readthedocs.io/en/latest/cookbook/"
   ]
  },
  {
   "cell_type": "code",
   "execution_count": 1,
   "metadata": {},
   "outputs": [],
   "source": [
    "# Calculator by PySimpleGUI\n",
    "# Credit Thankyou \"   https://pysimplegui.readthedocs.io/en/latest/cookbook/    \"\n",
    "\n",
    "import PySimpleGUI as sg    \n",
    "\n",
    "# Layout                                                         # Creat GUI\n",
    "layout = [[sg.Txt(''  * 10)],                      \n",
    "          [sg.Text('', size=(15, 1), font=('Helvetica', 18), text_color='red', key='input')],\n",
    "          [sg.Txt(''  * 10)],\n",
    "          [sg.ReadFormButton('('), sg.ReadFormButton(')'), sg.ReadFormButton('c'), sg.ReadFormButton('«')],\n",
    "          [sg.ReadFormButton('7'), sg.ReadFormButton('8'), sg.ReadFormButton('9'), sg.ReadFormButton('÷')],\n",
    "          [sg.ReadFormButton('4'), sg.ReadFormButton('5'), sg.ReadFormButton('6'), sg.ReadFormButton('x')],\n",
    "          [sg.ReadFormButton('1'), sg.ReadFormButton('2'), sg.ReadFormButton('3'), sg.ReadFormButton('-')],\n",
    "          [sg.ReadFormButton('.'), sg.ReadFormButton('0'), sg.ReadFormButton('='), sg.ReadFormButton('+')],\n",
    "          ]\n",
    "\n",
    "# Set PySimpleGUI\n",
    "form = sg.FlexForm('13411_CALCULATOR', default_button_element_size=(5, 2), auto_size_buttons=False, grab_anywhere=False)\n",
    "form.Layout(layout)\n",
    "\n",
    "# Set Process\n",
    "Equal = ''\n",
    "List_Op_Error =  ['+','-','*','/','(']\n",
    "\n",
    "# Loop\n",
    "while True:\n",
    "    button, value = form.Read()                            # call GUI\n",
    "    \n",
    "    # Press Button\n",
    "    if button is 'c':\n",
    "        Equal = ''\n",
    "        form.FindElement('input').Update(Equal)\n",
    "    elif button is '«':\n",
    "        Equal = Equal[:-1]\n",
    "        form.FindElement('input').Update(Equal)\n",
    "    elif len(Equal) == 16 :\n",
    "        pass\n",
    "    elif str(button) in '1234567890+-().':\n",
    "        Equal += str(button)\n",
    "        form.FindElement('input').Update(Equal) \n",
    "    elif button is 'x':\n",
    "        Equal += '*'\n",
    "        form.FindElement('input').Update(Equal)\n",
    "    elif button is '÷':\n",
    "        Equal += '/'\n",
    "        form.FindElement('input').Update(Equal)\n",
    "    \n",
    "   # Process Conditional\n",
    "    elif button is '=':\n",
    "        # Error Case\n",
    "        for i in List_Op_Error :  \n",
    "            if '*' is Equal[0] or '/' is Equal[0] or ')' is Equal[0]  or i is Equal[-1]:   # Check Error Case\n",
    "                Answer = \"Error Operation\" \n",
    "                break\n",
    "            elif Equal == '6001012630187':\n",
    "                Answer = 'Apisit.Khomcharoen'\n",
    "                break\n",
    "            elif '/0' in Equal or '*/' in Equal or '/*' in Equal :\n",
    "                Answer = \"Error Operation\" \n",
    "                break\n",
    "            elif '(' in Equal :\n",
    "                if ')' not in Equal :\n",
    "                    Answer = \"Error Operation\" \n",
    "                    break   \n",
    "            elif '(' not in Equal:\n",
    "                if ')' in Equal:\n",
    "                    Answer = \"Error Operation\" \n",
    "                    break\n",
    "    # Calculate Case    \n",
    "        else :\n",
    "            Answer = str(\"%0.2f\" %(eval(Equal)))                         # eval(Equal)  \n",
    "            if '.0' in Answer:\n",
    "                Answer = str(int(float(Answer)))                         # convert float to int\n",
    "        form.FindElement('input').Update(Answer)                         # Update to GUI\n",
    "        Equal = Answer\n",
    "\n",
    "    elif button is 'Quit'  or button is None:                            # QUIT Program\n",
    "        break"
   ]
  },
  {
   "cell_type": "code",
   "execution_count": null,
   "metadata": {},
   "outputs": [],
   "source": []
  }
 ],
 "metadata": {
  "kernelspec": {
   "display_name": "Python 3",
   "language": "python",
   "name": "python3"
  },
  "language_info": {
   "codemirror_mode": {
    "name": "ipython",
    "version": 3
   },
   "file_extension": ".py",
   "mimetype": "text/x-python",
   "name": "python",
   "nbconvert_exporter": "python",
   "pygments_lexer": "ipython3",
   "version": "3.6.5"
  }
 },
 "nbformat": 4,
 "nbformat_minor": 2
}
